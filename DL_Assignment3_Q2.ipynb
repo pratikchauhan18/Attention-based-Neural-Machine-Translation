{
  "nbformat": 4,
  "nbformat_minor": 0,
  "metadata": {
    "colab": {
      "provenance": [],
      "collapsed_sections": [
        "cCLE2l7ovNQm",
        "B5BNUJX5tuI5",
        "KyEK_yl6mvdY",
        "XgcBKwvur8mV",
        "YV_SBGo9vk9U",
        "fPMkyzejGb7Y",
        "nmmJukXT3BxE",
        "FaaCV4mFEn9O",
        "7otvowj_Ehz4",
        "bgfo7cwdXS7g",
        "jmXy4yNZ_c6K",
        "F0d113FFFTuj",
        "qExTLvXYFI_L",
        "-XKm1iBrcz91"
      ]
    },
    "kernelspec": {
      "name": "python3",
      "display_name": "Python 3"
    },
    "language_info": {
      "name": "python"
    },
    "accelerator": "GPU",
    "gpuClass": "standard",
    "widgets": {
      "application/vnd.jupyter.widget-state+json": {
        "54917ab1ac8e443e94c5700664317269": {
          "model_module": "@jupyter-widgets/controls",
          "model_name": "HBoxModel",
          "model_module_version": "1.5.0",
          "state": {
            "_dom_classes": [],
            "_model_module": "@jupyter-widgets/controls",
            "_model_module_version": "1.5.0",
            "_model_name": "HBoxModel",
            "_view_count": null,
            "_view_module": "@jupyter-widgets/controls",
            "_view_module_version": "1.5.0",
            "_view_name": "HBoxView",
            "box_style": "",
            "children": [
              "IPY_MODEL_9cd07afe63fc464fa7de9c04a83c163c",
              "IPY_MODEL_99ba4bd4bd6542f88fd1c983a8fe59a5",
              "IPY_MODEL_9a918b0a306e4e3f802fbf904e4ded95"
            ],
            "layout": "IPY_MODEL_107af8da9a074957b3c2191a8af4aa14"
          }
        },
        "9cd07afe63fc464fa7de9c04a83c163c": {
          "model_module": "@jupyter-widgets/controls",
          "model_name": "HTMLModel",
          "model_module_version": "1.5.0",
          "state": {
            "_dom_classes": [],
            "_model_module": "@jupyter-widgets/controls",
            "_model_module_version": "1.5.0",
            "_model_name": "HTMLModel",
            "_view_count": null,
            "_view_module": "@jupyter-widgets/controls",
            "_view_module_version": "1.5.0",
            "_view_name": "HTMLView",
            "description": "",
            "description_tooltip": null,
            "layout": "IPY_MODEL_cef134f208e649d580884dbae307baa9",
            "placeholder": "​",
            "style": "IPY_MODEL_3eede022181545db8842cfe492e6fc85",
            "value": "100%"
          }
        },
        "99ba4bd4bd6542f88fd1c983a8fe59a5": {
          "model_module": "@jupyter-widgets/controls",
          "model_name": "FloatProgressModel",
          "model_module_version": "1.5.0",
          "state": {
            "_dom_classes": [],
            "_model_module": "@jupyter-widgets/controls",
            "_model_module_version": "1.5.0",
            "_model_name": "FloatProgressModel",
            "_view_count": null,
            "_view_module": "@jupyter-widgets/controls",
            "_view_module_version": "1.5.0",
            "_view_name": "ProgressView",
            "bar_style": "success",
            "description": "",
            "description_tooltip": null,
            "layout": "IPY_MODEL_0f4af8f1a34b4f89b5375e336a814adb",
            "max": 3,
            "min": 0,
            "orientation": "horizontal",
            "style": "IPY_MODEL_ee113fc7e192413ab12f23000cc37f2c",
            "value": 3
          }
        },
        "9a918b0a306e4e3f802fbf904e4ded95": {
          "model_module": "@jupyter-widgets/controls",
          "model_name": "HTMLModel",
          "model_module_version": "1.5.0",
          "state": {
            "_dom_classes": [],
            "_model_module": "@jupyter-widgets/controls",
            "_model_module_version": "1.5.0",
            "_model_name": "HTMLModel",
            "_view_count": null,
            "_view_module": "@jupyter-widgets/controls",
            "_view_module_version": "1.5.0",
            "_view_name": "HTMLView",
            "description": "",
            "description_tooltip": null,
            "layout": "IPY_MODEL_3ed90d01c726447488b5c0990e940104",
            "placeholder": "​",
            "style": "IPY_MODEL_1d30e7519f6941f29854154a394534a4",
            "value": " 3/3 [00:02&lt;00:00,  2.60s/it]"
          }
        },
        "107af8da9a074957b3c2191a8af4aa14": {
          "model_module": "@jupyter-widgets/base",
          "model_name": "LayoutModel",
          "model_module_version": "1.2.0",
          "state": {
            "_model_module": "@jupyter-widgets/base",
            "_model_module_version": "1.2.0",
            "_model_name": "LayoutModel",
            "_view_count": null,
            "_view_module": "@jupyter-widgets/base",
            "_view_module_version": "1.2.0",
            "_view_name": "LayoutView",
            "align_content": null,
            "align_items": null,
            "align_self": null,
            "border": null,
            "bottom": null,
            "display": null,
            "flex": null,
            "flex_flow": null,
            "grid_area": null,
            "grid_auto_columns": null,
            "grid_auto_flow": null,
            "grid_auto_rows": null,
            "grid_column": null,
            "grid_gap": null,
            "grid_row": null,
            "grid_template_areas": null,
            "grid_template_columns": null,
            "grid_template_rows": null,
            "height": null,
            "justify_content": null,
            "justify_items": null,
            "left": null,
            "margin": null,
            "max_height": null,
            "max_width": null,
            "min_height": null,
            "min_width": null,
            "object_fit": null,
            "object_position": null,
            "order": null,
            "overflow": null,
            "overflow_x": null,
            "overflow_y": null,
            "padding": null,
            "right": null,
            "top": null,
            "visibility": null,
            "width": null
          }
        },
        "cef134f208e649d580884dbae307baa9": {
          "model_module": "@jupyter-widgets/base",
          "model_name": "LayoutModel",
          "model_module_version": "1.2.0",
          "state": {
            "_model_module": "@jupyter-widgets/base",
            "_model_module_version": "1.2.0",
            "_model_name": "LayoutModel",
            "_view_count": null,
            "_view_module": "@jupyter-widgets/base",
            "_view_module_version": "1.2.0",
            "_view_name": "LayoutView",
            "align_content": null,
            "align_items": null,
            "align_self": null,
            "border": null,
            "bottom": null,
            "display": null,
            "flex": null,
            "flex_flow": null,
            "grid_area": null,
            "grid_auto_columns": null,
            "grid_auto_flow": null,
            "grid_auto_rows": null,
            "grid_column": null,
            "grid_gap": null,
            "grid_row": null,
            "grid_template_areas": null,
            "grid_template_columns": null,
            "grid_template_rows": null,
            "height": null,
            "justify_content": null,
            "justify_items": null,
            "left": null,
            "margin": null,
            "max_height": null,
            "max_width": null,
            "min_height": null,
            "min_width": null,
            "object_fit": null,
            "object_position": null,
            "order": null,
            "overflow": null,
            "overflow_x": null,
            "overflow_y": null,
            "padding": null,
            "right": null,
            "top": null,
            "visibility": null,
            "width": null
          }
        },
        "3eede022181545db8842cfe492e6fc85": {
          "model_module": "@jupyter-widgets/controls",
          "model_name": "DescriptionStyleModel",
          "model_module_version": "1.5.0",
          "state": {
            "_model_module": "@jupyter-widgets/controls",
            "_model_module_version": "1.5.0",
            "_model_name": "DescriptionStyleModel",
            "_view_count": null,
            "_view_module": "@jupyter-widgets/base",
            "_view_module_version": "1.2.0",
            "_view_name": "StyleView",
            "description_width": ""
          }
        },
        "0f4af8f1a34b4f89b5375e336a814adb": {
          "model_module": "@jupyter-widgets/base",
          "model_name": "LayoutModel",
          "model_module_version": "1.2.0",
          "state": {
            "_model_module": "@jupyter-widgets/base",
            "_model_module_version": "1.2.0",
            "_model_name": "LayoutModel",
            "_view_count": null,
            "_view_module": "@jupyter-widgets/base",
            "_view_module_version": "1.2.0",
            "_view_name": "LayoutView",
            "align_content": null,
            "align_items": null,
            "align_self": null,
            "border": null,
            "bottom": null,
            "display": null,
            "flex": null,
            "flex_flow": null,
            "grid_area": null,
            "grid_auto_columns": null,
            "grid_auto_flow": null,
            "grid_auto_rows": null,
            "grid_column": null,
            "grid_gap": null,
            "grid_row": null,
            "grid_template_areas": null,
            "grid_template_columns": null,
            "grid_template_rows": null,
            "height": null,
            "justify_content": null,
            "justify_items": null,
            "left": null,
            "margin": null,
            "max_height": null,
            "max_width": null,
            "min_height": null,
            "min_width": null,
            "object_fit": null,
            "object_position": null,
            "order": null,
            "overflow": null,
            "overflow_x": null,
            "overflow_y": null,
            "padding": null,
            "right": null,
            "top": null,
            "visibility": null,
            "width": null
          }
        },
        "ee113fc7e192413ab12f23000cc37f2c": {
          "model_module": "@jupyter-widgets/controls",
          "model_name": "ProgressStyleModel",
          "model_module_version": "1.5.0",
          "state": {
            "_model_module": "@jupyter-widgets/controls",
            "_model_module_version": "1.5.0",
            "_model_name": "ProgressStyleModel",
            "_view_count": null,
            "_view_module": "@jupyter-widgets/base",
            "_view_module_version": "1.2.0",
            "_view_name": "StyleView",
            "bar_color": null,
            "description_width": ""
          }
        },
        "3ed90d01c726447488b5c0990e940104": {
          "model_module": "@jupyter-widgets/base",
          "model_name": "LayoutModel",
          "model_module_version": "1.2.0",
          "state": {
            "_model_module": "@jupyter-widgets/base",
            "_model_module_version": "1.2.0",
            "_model_name": "LayoutModel",
            "_view_count": null,
            "_view_module": "@jupyter-widgets/base",
            "_view_module_version": "1.2.0",
            "_view_name": "LayoutView",
            "align_content": null,
            "align_items": null,
            "align_self": null,
            "border": null,
            "bottom": null,
            "display": null,
            "flex": null,
            "flex_flow": null,
            "grid_area": null,
            "grid_auto_columns": null,
            "grid_auto_flow": null,
            "grid_auto_rows": null,
            "grid_column": null,
            "grid_gap": null,
            "grid_row": null,
            "grid_template_areas": null,
            "grid_template_columns": null,
            "grid_template_rows": null,
            "height": null,
            "justify_content": null,
            "justify_items": null,
            "left": null,
            "margin": null,
            "max_height": null,
            "max_width": null,
            "min_height": null,
            "min_width": null,
            "object_fit": null,
            "object_position": null,
            "order": null,
            "overflow": null,
            "overflow_x": null,
            "overflow_y": null,
            "padding": null,
            "right": null,
            "top": null,
            "visibility": null,
            "width": null
          }
        },
        "1d30e7519f6941f29854154a394534a4": {
          "model_module": "@jupyter-widgets/controls",
          "model_name": "DescriptionStyleModel",
          "model_module_version": "1.5.0",
          "state": {
            "_model_module": "@jupyter-widgets/controls",
            "_model_module_version": "1.5.0",
            "_model_name": "DescriptionStyleModel",
            "_view_count": null,
            "_view_module": "@jupyter-widgets/base",
            "_view_module_version": "1.2.0",
            "_view_name": "StyleView",
            "description_width": ""
          }
        }
      }
    }
  },
  "cells": [
    {
      "cell_type": "markdown",
      "source": [
        "**References:**\n",
        "\n",
        "https://pytorch.org/tutorials/intermediate/seq2seq_translation_tutorial.html \\\n",
        "https://www.tensorflow.org/text/tutorials/nmt_with_attention \\\n",
        "https://www.youtube.com/watch?v=0_PgWWmauHk&t=437s \\\n",
        "https://www.youtube.com/watch?v=f-JCCOHwx1c \\\n",
        "https://chat.openai.com/chat \\\n"
      ],
      "metadata": {
        "id": "nE3uIVP_j-o7"
      }
    },
    {
      "cell_type": "markdown",
      "source": [
        "# **Loading the dataset & libraries**"
      ],
      "metadata": {
        "id": "cCLE2l7ovNQm"
      }
    },
    {
      "cell_type": "code",
      "execution_count": null,
      "metadata": {
        "id": "HXzxn7lld479"
      },
      "outputs": [],
      "source": [
        "!pip install datasets\n",
        "!pip install transformers"
      ]
    },
    {
      "cell_type": "code",
      "source": [
        "import string\n",
        "import re\n",
        "from numpy import array, argmax, random, take\n",
        "import pandas as pd\n",
        "import numpy as np\n",
        "from keras.models import Sequential\n",
        "from keras.layers import Dense, LSTM, Embedding, Bidirectional, RepeatVector, TimeDistributed\n",
        "import datasets\n",
        "from datasets import Dataset\n",
        "from tensorflow.data import Dataset\n",
        "from transformers import AutoTokenizer, AutoModel\n",
        "from tensorflow.keras.layers import Input, Embedding, LSTM, Dense, Layer\n",
        "from tensorflow.keras.models import Model\n",
        "import tensorflow as tf\n",
        "from keras.preprocessing.text import Tokenizer\n",
        "from keras.callbacks import ModelCheckpoint\n",
        "from tensorflow.keras.preprocessing.sequence import pad_sequences\n",
        "from tensorflow.keras.activations import tanh, softmax\n",
        "from tensorflow.keras.losses import SparseCategoricalCrossentropy\n",
        "from tensorflow.keras.optimizers import Adam\n",
        "from keras.models import load_model\n",
        "from keras import optimizers\n",
        "import matplotlib.pyplot as plt\n",
        "\n",
        "import unicodedata\n",
        "import os\n",
        "import io\n",
        "import time\n",
        "from sklearn.model_selection import train_test_split"
      ],
      "metadata": {
        "id": "LbEJnhaKkwfp"
      },
      "execution_count": null,
      "outputs": []
    },
    {
      "cell_type": "code",
      "source": [
        "# Load the dataset\n",
        "dataset = datasets.load_dataset('wmt16', 'de-en')\n",
        "\n",
        "train_data = dataset['train'][:5000]\n",
        "val_data = dataset['validation']\n",
        "test_data = dataset['test']"
      ],
      "metadata": {
        "colab": {
          "base_uri": "https://localhost:8080/",
          "referenced_widgets": [
            "54917ab1ac8e443e94c5700664317269",
            "9cd07afe63fc464fa7de9c04a83c163c",
            "99ba4bd4bd6542f88fd1c983a8fe59a5",
            "9a918b0a306e4e3f802fbf904e4ded95",
            "107af8da9a074957b3c2191a8af4aa14",
            "cef134f208e649d580884dbae307baa9",
            "3eede022181545db8842cfe492e6fc85",
            "0f4af8f1a34b4f89b5375e336a814adb",
            "ee113fc7e192413ab12f23000cc37f2c",
            "3ed90d01c726447488b5c0990e940104",
            "1d30e7519f6941f29854154a394534a4"
          ]
        },
        "id": "ADo2g6mzlSfJ",
        "outputId": "9366364c-f572-4b50-cb99-b3fb433a9772"
      },
      "execution_count": null,
      "outputs": [
        {
          "output_type": "stream",
          "name": "stderr",
          "text": [
            "WARNING:datasets.builder:Found cached dataset wmt16 (/root/.cache/huggingface/datasets/wmt16/de-en/1.0.0/746749a11d25c02058042da7502d973ff410e73457f3d305fc1177dc0e8c4227)\n"
          ]
        },
        {
          "output_type": "display_data",
          "data": {
            "text/plain": [
              "  0%|          | 0/3 [00:00<?, ?it/s]"
            ],
            "application/vnd.jupyter.widget-view+json": {
              "version_major": 2,
              "version_minor": 0,
              "model_id": "54917ab1ac8e443e94c5700664317269"
            }
          },
          "metadata": {}
        }
      ]
    },
    {
      "cell_type": "markdown",
      "source": [
        "# **Preprocessing**"
      ],
      "metadata": {
        "id": "B5BNUJX5tuI5"
      }
    },
    {
      "cell_type": "code",
      "source": [
        "def process_data(data_set):\n",
        "    processed_data = []\n",
        "    for pair in data_set['translation']:\n",
        "        temp = [pair['en'], pair['de']]\n",
        "        processed_data.append(temp)\n",
        "\n",
        "    data = array(processed_data)\n",
        "\n",
        "    # Remove punctuation\n",
        "    data[:,0] = [s.translate(str.maketrans('', '', string.punctuation)) for s in data[:,0]]\n",
        "    data[:,1] = [s.translate(str.maketrans('', '', string.punctuation)) for s in data[:,1]]\n",
        "\n",
        "    # convert to lowercase\n",
        "    for i in range(len(data)):\n",
        "        data[i,0] = data[i,0].lower()\n",
        "        data[i,1] = data[i,1].lower()\n",
        "\n",
        "    english_language = data[:, 0]\n",
        "    german_language = data[:, 1]\n",
        "\n",
        "    return english_language, german_language"
      ],
      "metadata": {
        "id": "DnjqI7UElWwV"
      },
      "execution_count": null,
      "outputs": []
    },
    {
      "cell_type": "code",
      "source": [
        "def preprocess_sentence(w):\n",
        "    w = '<start> ' + w + ' <end>'\n",
        "    return w"
      ],
      "metadata": {
        "id": "HMJZDcDOl4Fp"
      },
      "execution_count": null,
      "outputs": []
    },
    {
      "cell_type": "code",
      "source": [
        "# Remove the accents, clean the sentences\n",
        "def create_dataset(language):\n",
        "    language = [preprocess_sentence(sent) for sent in language]\n",
        "    return language"
      ],
      "metadata": {
        "id": "MU_3tK6Ul8Mp"
      },
      "execution_count": null,
      "outputs": []
    },
    {
      "cell_type": "code",
      "source": [
        "def tokenize(lang):\n",
        "  lang_tokenizer = Tokenizer(filters='')\n",
        "  lang_tokenizer.fit_on_texts(lang)\n",
        "  return lang_tokenizer\n",
        "\n",
        "def encode_seq(tokenizer, leng, data):\n",
        "  tensor = tokenizer.texts_to_sequences(data)\n",
        "  tensor = pad_sequences(tensor,  maxlen=leng, padding='post')\n",
        "  return tensor"
      ],
      "metadata": {
        "id": "Zc-Wd6_Fmisj"
      },
      "execution_count": null,
      "outputs": []
    },
    {
      "cell_type": "code",
      "source": [
        "train_eng, train_german = process_data(train_data)\n",
        "val_eng, val_german = process_data(val_data)\n",
        "test_eng, test_german = process_data(test_data)\n",
        "\n",
        "\n",
        "train_eng, train_german = list(train_eng), list(train_german)\n",
        "val_eng, val_german = list(val_eng), list(val_german)\n",
        "test_eng, test_german = list(test_eng), list(test_german)"
      ],
      "metadata": {
        "id": "H6HRBuJQmIvE"
      },
      "execution_count": null,
      "outputs": []
    },
    {
      "cell_type": "code",
      "source": [
        "train_english = create_dataset(train_eng)\n",
        "train_german = create_dataset(train_german)\n",
        "\n",
        "val_english = create_dataset(val_eng)\n",
        "val_german = create_dataset(val_german)\n",
        "\n",
        "test_english = create_dataset(test_eng)\n",
        "test_german = create_dataset(test_german)"
      ],
      "metadata": {
        "id": "eVo6a3nCmVfm"
      },
      "execution_count": null,
      "outputs": []
    },
    {
      "cell_type": "code",
      "source": [
        "english_vocab = train_english + val_english + test_english\n",
        "german_vocab = train_german + val_german + test_german"
      ],
      "metadata": {
        "id": "CCwD3P-Dmdtl"
      },
      "execution_count": null,
      "outputs": []
    },
    {
      "cell_type": "code",
      "source": [
        "english_tokenizer = tokenize(english_vocab)\n",
        "german_tokenizer = tokenize(german_vocab)"
      ],
      "metadata": {
        "id": "K8Wf0JLamgl5"
      },
      "execution_count": null,
      "outputs": []
    },
    {
      "cell_type": "code",
      "source": [
        "english_vocabulary = len(english_tokenizer.word_index) + 1\n",
        "german_vocabulary = len(german_tokenizer.word_index) + 1\n",
        "\n",
        "english_max_length = 161\n",
        "german_max_length = 152\n",
        "\n",
        "print(f\"English: {english_max_length}, German: {german_max_length}\")"
      ],
      "metadata": {
        "colab": {
          "base_uri": "https://localhost:8080/"
        },
        "id": "me9vUElNnIJK",
        "outputId": "13702c1b-786b-4ea9-cb00-cf25f3615578"
      },
      "execution_count": null,
      "outputs": [
        {
          "output_type": "stream",
          "name": "stdout",
          "text": [
            "English: 161, German: 152\n"
          ]
        }
      ]
    },
    {
      "cell_type": "code",
      "source": [
        "# prepare training data\n",
        "trainX = encode_seq(english_tokenizer, english_max_length, train_english)\n",
        "trainY = encode_seq(german_tokenizer, german_max_length, train_german)\n",
        "\n",
        "# prepare validation data\n",
        "valX = encode_seq(english_tokenizer, english_max_length, val_english)\n",
        "valY = encode_seq(german_tokenizer, german_max_length, val_german)\n",
        "\n",
        "# prepare test data\n",
        "testset_X = encode_seq(english_tokenizer, english_max_length, test_english)\n",
        "testset_Y = encode_seq(german_tokenizer, german_max_length, test_german)"
      ],
      "metadata": {
        "id": "1oq8O0mNmmzj"
      },
      "execution_count": null,
      "outputs": []
    },
    {
      "cell_type": "code",
      "source": [
        "# storing the tokenizers\n",
        "import pickle\n",
        "\n",
        "with open('english_tokenizer.pkl', 'wb') as file:\n",
        "  pickle.dump(english_tokenizer, file)\n",
        "\n",
        "with open('german_tokenizer.pkl', 'wb') as file:\n",
        "  pickle.dump(german_tokenizer, file)"
      ],
      "metadata": {
        "id": "XQNh2auVmzx9"
      },
      "execution_count": null,
      "outputs": []
    },
    {
      "cell_type": "markdown",
      "source": [
        "# **b) Vanilla LSTM**"
      ],
      "metadata": {
        "id": "KyEK_yl6mvdY"
      }
    },
    {
      "cell_type": "code",
      "source": [
        "# build basic LSTM model\n",
        "def create_LSTM_model(in_vocab, out_vocab, in_timesteps, out_timesteps, units):\n",
        "    model = Sequential()\n",
        "    model.add(Embedding(in_vocab, units, input_length=in_timesteps, mask_zero=True))\n",
        "    model.add(LSTM(units))\n",
        "    model.add(RepeatVector(out_timesteps))\n",
        "    model.add(LSTM(units, return_sequences=True))\n",
        "    model.add(Dense(out_vocab, activation='softmax'))\n",
        "    return model"
      ],
      "metadata": {
        "id": "2mh5J4a1mrXC"
      },
      "execution_count": null,
      "outputs": []
    },
    {
      "cell_type": "code",
      "source": [
        "model = create_LSTM_model(english_vocabulary, german_vocabulary, english_max_length, german_max_length, 512)\n",
        "adam = optimizers.RMSprop(learning_rate=0.001)\n",
        "model.compile(optimizer=adam, loss='sparse_categorical_crossentropy')"
      ],
      "metadata": {
        "id": "FUb3LFEinLIW"
      },
      "execution_count": null,
      "outputs": []
    },
    {
      "cell_type": "code",
      "source": [
        "history = model.fit(trainX, trainY.reshape(trainY.shape[0], trainY.shape[1], 1),\n",
        "                    validation_data=(valX, valY.reshape(valY.shape[0], valY.shape[1], 1)),\n",
        "                    epochs=10, batch_size=64)"
      ],
      "metadata": {
        "colab": {
          "base_uri": "https://localhost:8080/",
          "height": 394
        },
        "id": "rdrlLwNwoJoC",
        "outputId": "09161d27-e0df-4089-9cd1-a6e8e86ad925"
      },
      "execution_count": null,
      "outputs": [
        {
          "output_type": "stream",
          "name": "stdout",
          "text": [
            "Epoch 1/10\n",
            "79/79 [==============================] - 36s 392ms/step - loss: 1.8310 - val_loss: 1.1848\n",
            "Epoch 2/10\n",
            "79/79 [==============================] - 30s 382ms/step - loss: 1.3657 - val_loss: 1.2998\n",
            "Epoch 3/10\n",
            "79/79 [==============================] - 30s 381ms/step - loss: 1.2113 - val_loss: 1.1158\n",
            "Epoch 4/10\n",
            "79/79 [==============================] - 30s 379ms/step - loss: 1.1762 - val_loss: 1.0686\n",
            "Epoch 5/10\n",
            "79/79 [==============================] - 30s 381ms/step - loss: 1.1501 - val_loss: 1.0719\n",
            "Epoch 6/10\n",
            "79/79 [==============================] - 30s 379ms/step - loss: 1.1381 - val_loss: 1.0718\n",
            "Epoch 7/10\n",
            "79/79 [==============================] - 30s 380ms/step - loss: 1.2074 - val_loss: 1.1172\n",
            "Epoch 8/10\n",
            "79/79 [==============================] - 30s 381ms/step - loss: 1.1492 - val_loss: 1.0780\n",
            "Epoch 9/10\n",
            "79/79 [==============================] - 30s 382ms/step - loss: 1.1225 - val_loss: 1.0954\n",
            "Epoch 10/10\n",
            "79/79 [==============================] - 30s 385ms/step - loss: 1.1097 - val_loss: 1.0636\n"
          ]
        }
      ]
    },
    {
      "cell_type": "code",
      "source": [
        "fig, ax1 = plt.subplots(1, 1, figsize= (10, 10))\n",
        "fig.suptitle(\" MODEL'S METRICS VISUALIZATION \")\n",
        "\n",
        "ax1.plot(range(1, len(history.history['loss']) + 1), history.history['loss'])\n",
        "ax1.plot(range(1, len(history.history['val_loss']) + 1), history.history['val_loss'])\n",
        "ax1.set_title('History of Loss')\n",
        "ax1.set_xlabel('Epochs')\n",
        "ax1.set_ylabel('Loss')\n",
        "ax1.legend(['Training', 'Validation'])\n",
        "ax1.grid()\n",
        "plt.show()"
      ],
      "metadata": {
        "colab": {
          "base_uri": "https://localhost:8080/",
          "height": 950
        },
        "id": "kM-Xq51xoQ8E",
        "outputId": "788bcecc-779c-45bb-9fd8-97ff76094d18"
      },
      "execution_count": null,
      "outputs": [
        {
          "output_type": "display_data",
          "data": {
            "text/plain": [
              "<Figure size 1000x1000 with 1 Axes>"
            ],
            "image/png": "[encoded data removed]"
          },
          "metadata": {}
        }
      ]
    },
    {
      "cell_type": "code",
      "source": [
        "# saving the model\n",
        "model.save('english_to_german_lstm')"
      ],
      "metadata": {
        "id": "Hm4wAoyvrl9y"
      },
      "execution_count": null,
      "outputs": []
    },
    {
      "cell_type": "markdown",
      "source": [
        "## **Loading the model, and testing the performance on the test set**\n",
        "### here, we are slicing the test set into 10 chunks."
      ],
      "metadata": {
        "id": "XgcBKwvur8mV"
      }
    },
    {
      "cell_type": "code",
      "source": [
        "# loading the model\n",
        "model = load_model('/content/english_to_german_lstm')\n",
        "\n",
        "# breaking test set into chunks\n",
        "test_chunks = np.array_split(testset_X, 30, axis=0)\n",
        "test_y_chunks = np.array_split(testset_Y, 30, axis=0)"
      ],
      "metadata": {
        "id": "TvQFsr-ErtTF"
      },
      "execution_count": null,
      "outputs": []
    },
    {
      "cell_type": "code",
      "source": [
        "# method to store predictions of each chunk\n",
        "def make_predictions(chunks):\n",
        "  prediction_chunk = []\n",
        "  \n",
        "  for test_set in chunks:\n",
        "    predictions = np.argmax(model.predict(test_set.reshape((test_set.shape[0], test_set.shape[1]))), axis=-1)\n",
        "    prediction_chunk.append(predictions)\n",
        "\n",
        "  return prediction_chunk"
      ],
      "metadata": {
        "id": "T1nRJHjTsWV-"
      },
      "execution_count": null,
      "outputs": []
    },
    {
      "cell_type": "code",
      "source": [
        "predictions_chunk = make_predictions(test_chunks)\n",
        "predictions_chunk[0].shape"
      ],
      "metadata": {
        "colab": {
          "base_uri": "https://localhost:8080/"
        },
        "id": "emtQiuoXsqIh",
        "outputId": "3ea7b53a-b23e-4129-ee58-c6df5fd5f3cd"
      },
      "execution_count": null,
      "outputs": [
        {
          "output_type": "stream",
          "name": "stdout",
          "text": [
            "4/4 [==============================] - 3s 66ms/step\n",
            "4/4 [==============================] - 0s 70ms/step\n",
            "4/4 [==============================] - 0s 79ms/step\n",
            "4/4 [==============================] - 0s 70ms/step\n",
            "4/4 [==============================] - 0s 73ms/step\n",
            "4/4 [==============================] - 0s 81ms/step\n",
            "4/4 [==============================] - 0s 71ms/step\n",
            "4/4 [==============================] - 0s 72ms/step\n",
            "4/4 [==============================] - 0s 79ms/step\n",
            "4/4 [==============================] - 0s 70ms/step\n",
            "4/4 [==============================] - 0s 80ms/step\n",
            "4/4 [==============================] - 0s 72ms/step\n",
            "4/4 [==============================] - 0s 77ms/step\n",
            "4/4 [==============================] - 0s 91ms/step\n",
            "4/4 [==============================] - 0s 72ms/step\n",
            "4/4 [==============================] - 0s 73ms/step\n",
            "4/4 [==============================] - 0s 74ms/step\n",
            "4/4 [==============================] - 0s 79ms/step\n",
            "4/4 [==============================] - 0s 71ms/step\n",
            "4/4 [==============================] - 0s 72ms/step\n",
            "4/4 [==============================] - 0s 79ms/step\n",
            "4/4 [==============================] - 0s 83ms/step\n",
            "4/4 [==============================] - 0s 75ms/step\n",
            "4/4 [==============================] - 0s 72ms/step\n",
            "4/4 [==============================] - 0s 70ms/step\n",
            "4/4 [==============================] - 0s 79ms/step\n",
            "4/4 [==============================] - 0s 78ms/step\n",
            "4/4 [==============================] - 0s 78ms/step\n",
            "4/4 [==============================] - 0s 80ms/step\n",
            "4/4 [==============================] - 0s 73ms/step\n"
          ]
        },
        {
          "output_type": "execute_result",
          "data": {
            "text/plain": [
              "(100, 152)"
            ]
          },
          "metadata": {},
          "execution_count": 18
        }
      ]
    },
    {
      "cell_type": "code",
      "source": [
        "def convert_to_words(data):\n",
        "  result = []\n",
        "  for row in data:\n",
        "    row = list(row)\n",
        "    row = [x for x in row if x != 0]\n",
        "\n",
        "    temp_list = []\n",
        "    for token in row:\n",
        "      temp_list.append(german_tokenizer.index_word[token])\n",
        "\n",
        "    temp_list = ' '.join(temp_list)\n",
        "    result.append(temp_list)\n",
        "\n",
        "  return array(result)"
      ],
      "metadata": {
        "id": "ttRNSIzBEFDL"
      },
      "execution_count": null,
      "outputs": []
    },
    {
      "cell_type": "code",
      "source": [
        "predicted_words = []\n",
        "actual_words = []\n",
        "\n",
        "for predicted_tokens, test_y in zip(predictions_chunk, test_y_chunks):\n",
        "  predicted_words.append(convert_to_words(predicted_tokens))\n",
        "  actual_words.append(convert_to_words(test_y))"
      ],
      "metadata": {
        "id": "yfngd8SuEN9_"
      },
      "execution_count": null,
      "outputs": []
    },
    {
      "cell_type": "markdown",
      "source": [
        "# **c) Global Attention Model**"
      ],
      "metadata": {
        "id": "YV_SBGo9vk9U"
      }
    },
    {
      "cell_type": "code",
      "source": [
        "# Creating a tf.data Dataset\n",
        "BUFFER_SIZE = len(trainX)\n",
        "BATCH_SIZE = 32\n",
        "steps_per_epoch = len(trainX) // BATCH_SIZE\n",
        "embedding_dim = 128\n",
        "units = 512\n",
        "\n",
        "vocab_inp_size = len(english_tokenizer.word_index) + 1\n",
        "vocab_tar_size = len(german_tokenizer.word_index) + 1\n",
        "\n",
        "dataset = tf.data.Dataset.from_tensor_slices((trainX, trainY)).shuffle(BUFFER_SIZE)\n",
        "dataset = dataset.batch(BATCH_SIZE, drop_remainder=True)"
      ],
      "metadata": {
        "id": "tkqgNFjbvuKH"
      },
      "execution_count": null,
      "outputs": []
    },
    {
      "cell_type": "code",
      "source": [
        "val_dataset = tf.data.Dataset.from_tensor_slices((valX, valY)).shuffle(BUFFER_SIZE)\n",
        "val_dataset = val_dataset.batch(BATCH_SIZE, drop_remainder=True)"
      ],
      "metadata": {
        "id": "vMQT0-otwkQ8"
      },
      "execution_count": null,
      "outputs": []
    },
    {
      "cell_type": "code",
      "source": [
        "example_input_batch, example_target_batch = next(iter(dataset))\n",
        "example_input_batch.shape, example_target_batch.shape"
      ],
      "metadata": {
        "colab": {
          "base_uri": "https://localhost:8080/"
        },
        "id": "ffRHH53mv0-q",
        "outputId": "f5ee4fae-1acd-4382-8ff1-b8f747e7d47e"
      },
      "execution_count": null,
      "outputs": [
        {
          "output_type": "execute_result",
          "data": {
            "text/plain": [
              "(TensorShape([32, 161]), TensorShape([32, 152]))"
            ]
          },
          "metadata": {},
          "execution_count": 38
        }
      ]
    },
    {
      "cell_type": "code",
      "source": [
        "class Encoder(Model):\n",
        "  def __init__(self, vocab_size, embedding_dim, enc_units, batch_sz):\n",
        "    super(Encoder, self).__init__()\n",
        "    self.batch_sz = batch_sz\n",
        "    self.enc_units = enc_units\n",
        "    self.embedding = Embedding(vocab_size, embedding_dim)\n",
        "    self.lstm = LSTM(self.enc_units,\n",
        "                     return_sequences=True,\n",
        "                     return_state=True,\n",
        "                     recurrent_initializer='glorot_uniform')\n",
        "\n",
        "  def call(self, x, hidden):\n",
        "    x = self.embedding(x)\n",
        "    output, state_h, state_c = self.lstm(x, initial_state=hidden)\n",
        "    return output, [state_h, state_c]\n",
        "\n",
        "  def initialize_hidden_state(self):\n",
        "    return [tf.zeros((self.batch_sz, self.enc_units)),\n",
        "            tf.zeros((self.batch_sz, self.enc_units))]\n",
        "\n",
        "class GlobalAttention(Layer):\n",
        "  def __init__(self, units):\n",
        "    super(GlobalAttention, self).__init__()\n",
        "    self.W1 = Dense(units)\n",
        "    self.W2 = Dense(units)\n",
        "    self.V = Dense(1)\n",
        "\n",
        "  def call(self, query, values):\n",
        "    query_with_time_axis = tf.expand_dims(query[0], 1)\n",
        "    score = self.V(tanh(self.W1(query_with_time_axis) + self.W2(values)))\n",
        "    attention_weights = softmax(score, axis=1)\n",
        "    context_vector = attention_weights * values\n",
        "    context_vector = tf.reduce_sum(context_vector, axis=1)\n",
        "\n",
        "    return context_vector, attention_weights\n",
        "\n",
        "class Decoder(tf.keras.Model):\n",
        "  def __init__(self, vocab_size, embedding_dim, dec_units, batch_sz):\n",
        "    super(Decoder, self).__init__()\n",
        "    self.batch_sz = batch_sz\n",
        "    self.dec_units = dec_units\n",
        "    self.embedding = Embedding(vocab_size, embedding_dim)\n",
        "    self.lstm = LSTM(self.dec_units,\n",
        "                   return_sequences=True,\n",
        "                   return_state=True,\n",
        "                   recurrent_initializer='glorot_uniform')\n",
        "    self.fc = Dense(vocab_size)\n",
        "    self.attention = GlobalAttention(self.dec_units)\n",
        "\n",
        "  def call(self, x, hidden, enc_output):\n",
        "    context_vector, attention_weights = self.attention(hidden, enc_output)\n",
        "    x = self.embedding(x)\n",
        "    x = tf.concat([tf.expand_dims(context_vector, 1), x], axis=-1)\n",
        "    output, state_h, state_c = self.lstm(x, initial_state=hidden)\n",
        "    state = [state_h, state_c]\n",
        "    output = tf.reshape(output, (-1, output.shape[2]))\n",
        "    x = self.fc(output)\n",
        "    return x, state, attention_weights"
      ],
      "metadata": {
        "id": "0EJDOlVav36y"
      },
      "execution_count": null,
      "outputs": []
    },
    {
      "cell_type": "code",
      "source": [
        "encoder = Encoder(vocab_inp_size, embedding_dim, units, BATCH_SIZE)\n",
        "sample_hidden = encoder.initialize_hidden_state()\n",
        "sample_output, sample_hidden = encoder(example_input_batch, sample_hidden)\n",
        "\n",
        "print('Encoder Output Shape: (batch_size, sequence_length, units)', sample_output.shape)\n",
        "print('Encoder Hidden State Shape: (batch_size, units)', sample_hidden[0].shape)"
      ],
      "metadata": {
        "colab": {
          "base_uri": "https://localhost:8080/"
        },
        "id": "4VljHkDev_Ss",
        "outputId": "0bc27ef6-ba5b-4ab5-8f57-aba57aec2242"
      },
      "execution_count": null,
      "outputs": [
        {
          "output_type": "stream",
          "name": "stdout",
          "text": [
            "Encoder Output Shape: (batch_size, sequence_length, units) (32, 161, 512)\n",
            "Encoder Hidden State Shape: (batch_size, units) (32, 512)\n"
          ]
        }
      ]
    },
    {
      "cell_type": "code",
      "source": [
        "attention_layer = GlobalAttention(10)\n",
        "attention_result, attention_weights = attention_layer(sample_hidden, sample_output)\n",
        "\n",
        "print(\"Attention Result Shape: (batch_size, units)\", attention_result.shape)\n",
        "print(\"Attention Weights Shape: (batch_size, sequence_length, 1)\", attention_weights.shape)"
      ],
      "metadata": {
        "colab": {
          "base_uri": "https://localhost:8080/"
        },
        "id": "9v-_UcybwOXO",
        "outputId": "c5d8e0ed-5858-43a2-c21b-f1933edae636"
      },
      "execution_count": null,
      "outputs": [
        {
          "output_type": "stream",
          "name": "stdout",
          "text": [
            "Attention Result Shape: (batch_size, units) (32, 512)\n",
            "Attention Weights Shape: (batch_size, sequence_length, 1) (32, 161, 1)\n"
          ]
        }
      ]
    },
    {
      "cell_type": "code",
      "source": [
        "decoder = Decoder(vocab_tar_size, embedding_dim, units, BATCH_SIZE)\n",
        "sample_decoder_output, sample_decoder_state, _ = decoder(tf.random.uniform((BATCH_SIZE, 1)),\n",
        "                                      sample_hidden, sample_output)\n",
        "\n",
        "print('Decoder Output Shape: (batch_size, vocab_size)', sample_decoder_output.shape, sample_decoder_state[0].shape)"
      ],
      "metadata": {
        "colab": {
          "base_uri": "https://localhost:8080/"
        },
        "id": "zgBnA314wQf8",
        "outputId": "3512089a-ff57-4382-dbb2-c649b0e87ee4"
      },
      "execution_count": null,
      "outputs": [
        {
          "output_type": "stream",
          "name": "stdout",
          "text": [
            "Decoder Output Shape: (batch_size, vocab_size) (32, 26333) (32, 512)\n"
          ]
        }
      ]
    },
    {
      "cell_type": "code",
      "source": [
        "from keras.optimizers.legacy.rmsprop import RMSprop\n",
        "\n",
        "optimizer = RMSprop()\n",
        "loss_object = SparseCategoricalCrossentropy(from_logits=True, reduction='none')\n",
        "\n",
        "def loss_function(real, pred):\n",
        "  mask = tf.math.not_equal(real, 0)\n",
        "  loss_ = loss_object(real, pred)\n",
        "  mask = tf.cast(mask, dtype=loss_.dtype)\n",
        "  loss_ *= mask\n",
        "  return tf.reduce_mean(loss_)"
      ],
      "metadata": {
        "id": "DtlMZGu-wSn8"
      },
      "execution_count": null,
      "outputs": []
    },
    {
      "cell_type": "code",
      "source": [
        "@tf.function\n",
        "def train_step(inp, targ, enc_hidden):\n",
        "  loss = 0\n",
        "  with tf.GradientTape() as tape:\n",
        "    enc_output, enc_hidden = encoder(inp, enc_hidden)\n",
        "    dec_hidden = enc_hidden\n",
        "    dec_input = tf.expand_dims([1] * BATCH_SIZE, 1)\n",
        "\n",
        "    for t in range(1, targ.shape[1]):\n",
        "      predictions, dec_hidden, _ = decoder(dec_input, dec_hidden, enc_output)\n",
        "      loss += loss_function(targ[:, t], predictions)\n",
        "      dec_input = tf.expand_dims(targ[:, t], 1)\n",
        "\n",
        "  batch_loss = (loss / int(targ.shape[1]))\n",
        "  variables = encoder.trainable_variables + decoder.trainable_variables\n",
        "  gradients = tape.gradient(loss, variables)\n",
        "  optimizer.apply_gradients(zip(gradients, variables))\n",
        "  return batch_loss"
      ],
      "metadata": {
        "id": "dLTjPTEnwY1O"
      },
      "execution_count": null,
      "outputs": []
    },
    {
      "cell_type": "code",
      "source": [
        "EPOCHS = 5\n",
        "\n",
        "train_loss = []\n",
        "for epoch in range(EPOCHS):\n",
        "  start = time.time()\n",
        "\n",
        "  enc_hidden = encoder.initialize_hidden_state()\n",
        "  total_train_loss = 0\n",
        "  for (batch, (inp, targ)) in enumerate(dataset.take(steps_per_epoch)):\n",
        "    train_batch_loss = train_step(inp, targ, enc_hidden)\n",
        "    total_train_loss += train_batch_loss\n",
        "  \n",
        "  temp = \"{:.4f}\".format(total_train_loss/steps_per_epoch)\n",
        "  train_loss.append(float(temp))\n",
        "\n",
        "  print(f'Epoch: {epoch+1}, Training Loss: {total_train_loss/steps_per_epoch:.4f}')\n",
        "  print(f'Time taken for 1 Epoch {time.time()-start:.2f}s\\n')"
      ],
      "metadata": {
        "colab": {
          "base_uri": "https://localhost:8080/"
        },
        "id": "YxUrUGMAwgRb",
        "outputId": "18fc32fe-3a8a-430c-c296-466aba139add"
      },
      "execution_count": null,
      "outputs": [
        {
          "output_type": "stream",
          "name": "stdout",
          "text": [
            "Epoch: 1, Training Loss: 1.1218\n",
            "Time taken for 1 Epoch 360.22s\n",
            "\n",
            "Epoch: 2, Training Loss: 1.0488\n",
            "Time taken for 1 Epoch 139.98s\n",
            "\n",
            "Epoch: 3, Training Loss: 1.0068\n",
            "Time taken for 1 Epoch 140.54s\n",
            "\n",
            "Epoch: 4, Training Loss: 0.9736\n",
            "Time taken for 1 Epoch 140.30s\n",
            "\n",
            "Epoch: 5, Training Loss: 0.9406\n",
            "Time taken for 1 Epoch 141.33s\n",
            "\n"
          ]
        }
      ]
    },
    {
      "cell_type": "code",
      "source": [
        "@tf.function\n",
        "def validation_step(inp, targ, enc_hidden):\n",
        "    loss = 0\n",
        "    enc_output, enc_hidden = encoder(inp, enc_hidden, training=False)\n",
        "    dec_hidden = enc_hidden\n",
        "    dec_input = tf.expand_dims([1] * BATCH_SIZE, 1)\n",
        "\n",
        "    for t in range(1, targ.shape[1]):\n",
        "        predictions, dec_hidden, _ = decoder(dec_input, dec_hidden, enc_output, training=False)\n",
        "        loss += loss_function(targ[:, t], predictions)\n",
        "        dec_input = tf.expand_dims(targ[:, t], 1)\n",
        "\n",
        "    batch_loss = (loss / int(targ.shape[1]))\n",
        "    return batch_loss"
      ],
      "metadata": {
        "id": "0YnQjFRKwt4O"
      },
      "execution_count": null,
      "outputs": []
    },
    {
      "cell_type": "code",
      "source": [
        "# validation loop\n",
        "EPOCHS = 5\n",
        "\n",
        "val_loss = []\n",
        "for epoch in range(EPOCHS):\n",
        "  start = time.time()\n",
        "\n",
        "  enc_hidden = encoder.initialize_hidden_state()\n",
        "  total_loss = 0\n",
        "  for (batch, (inp, targ)) in enumerate(val_dataset.take(steps_per_epoch)):\n",
        "    batch_loss = train_step(inp, targ, enc_hidden)\n",
        "    total_loss += batch_loss\n",
        "  \n",
        "  temp = \"{:.4f}\".format(total_loss/steps_per_epoch)\n",
        "  val_loss.append(float(temp))\n",
        "  print(f'Epoch: {epoch+1}, Validation Loss: {total_loss/steps_per_epoch:.4f}')\n",
        "  print(f'Time taken for 1 Epoch {time.time()-start:.2f}s\\n')"
      ],
      "metadata": {
        "colab": {
          "base_uri": "https://localhost:8080/"
        },
        "id": "vROP6rybz91B",
        "outputId": "14283184-d226-46d2-8603-d3c20e86ee17"
      },
      "execution_count": null,
      "outputs": [
        {
          "output_type": "stream",
          "name": "stdout",
          "text": [
            "Epoch: 1, Validation Loss: 0.3827\n",
            "Time taken for 1 Epoch 60.30s\n",
            "\n",
            "Epoch: 2, Validation Loss: 0.3440\n",
            "Time taken for 1 Epoch 59.99s\n",
            "\n",
            "Epoch: 3, Validation Loss: 0.3243\n",
            "Time taken for 1 Epoch 60.02s\n",
            "\n",
            "Epoch: 4, Validation Loss: 0.3085\n",
            "Time taken for 1 Epoch 60.01s\n",
            "\n",
            "Epoch: 5, Validation Loss: 0.2951\n",
            "Time taken for 1 Epoch 60.07s\n",
            "\n"
          ]
        }
      ]
    },
    {
      "cell_type": "code",
      "source": [
        "fig, ax1 = plt.subplots(1, 1)\n",
        "ax1.plot(range(1, EPOCHS + 1), train_loss, label='training loss')\n",
        "ax1.plot(range(1, EPOCHS + 1), val_loss, label='validation loss')\n",
        "ax1.set_title('History of Loss')\n",
        "ax1.set_xlabel('Epochs')\n",
        "ax1.set_ylabel('Loss')\n",
        "ax1.legend(['Training', 'Validation'])\n",
        "ax1.grid()\n",
        "plt.show()"
      ],
      "metadata": {
        "colab": {
          "base_uri": "https://localhost:8080/",
          "height": 472
        },
        "id": "QSq4Y5fV1fZA",
        "outputId": "2485b7ac-3799-4bb0-eac2-d6c9f8de8192"
      },
      "execution_count": null,
      "outputs": [
        {
          "output_type": "display_data",
          "data": {
            "text/plain": [
              "<Figure size 640x480 with 1 Axes>"
            ],
            "image/png": "[encoded data removed]"
          },
          "metadata": {}
        }
      ]
    },
    {
      "cell_type": "code",
      "source": [
        "# saving the models\n",
        "encoder.save('global_encoder')\n",
        "decoder.save('global_decoder')"
      ],
      "metadata": {
        "id": "Qf-1yWEg10eS"
      },
      "execution_count": null,
      "outputs": []
    },
    {
      "cell_type": "code",
      "source": [
        "# evaluation method\n",
        "def evaluate(sentence):\n",
        "  attention_plot = np.zeros((german_max_length, english_max_length))\n",
        "  sentence = preprocess_sentence(sentence)\n",
        "  inputs = [english_tokenizer.word_index[i] for i in sentence.split(' ')]\n",
        "  inputs = tf.keras.preprocessing.sequence.pad_sequences([inputs],\n",
        "                                                         maxlen=english_max_length,\n",
        "                                                         padding='post')\n",
        "  inputs = tf.convert_to_tensor(inputs)\n",
        "\n",
        "  result = ''\n",
        "  lstm_layer = tf.keras.layers.LSTM(units)\n",
        "  initial_state = [tf.zeros((1, units)), tf.zeros((1, units))]\n",
        "  enc_out, enc_hidden = encoder(inputs, initial_state)\n",
        "  dec_hidden = enc_hidden\n",
        "  dec_input = tf.expand_dims([german_tokenizer.word_index['<start>']], 0)\n",
        "\n",
        "  for t in range(german_max_length):\n",
        "    predictions, dec_hidden, attention_weights = decoder(dec_input,\n",
        "                                                         dec_hidden,\n",
        "                                                         enc_out)\n",
        "    attention_weights = tf.reshape(attention_weights, (-1, ))\n",
        "    attention_plot[t] = attention_weights.numpy()\n",
        "    predicted_id = tf.argmax(predictions[0]).numpy()\n",
        "    result += german_tokenizer.index_word[predicted_id] + ' '\n",
        "\n",
        "    if german_tokenizer.index_word[predicted_id] == '<end>':\n",
        "      return result, sentence, attention_plot\n",
        "      \n",
        "    dec_input = tf.expand_dims([predicted_id], 0)\n",
        "\n",
        "  return result, sentence, attention_plot"
      ],
      "metadata": {
        "id": "QvJLoV_02Pl4"
      },
      "execution_count": null,
      "outputs": []
    },
    {
      "cell_type": "code",
      "source": [
        "def translate(sentence):\n",
        "  result, sentence, attention_plot = evaluate(sentence)\n",
        "  return result"
      ],
      "metadata": {
        "id": "Jg4WBRrL2xVe"
      },
      "execution_count": null,
      "outputs": []
    },
    {
      "cell_type": "code",
      "source": [
        "sentence = '<start> you have requested a debate on this subject in the course of the next few days during this partsession <end>'\n",
        "translate(sentence)"
      ],
      "metadata": {
        "colab": {
          "base_uri": "https://localhost:8080/",
          "height": 36
        },
        "id": "Pud8fZmL20CF",
        "outputId": "9fc4bc30-e634-4c45-efdd-11a9f5a8a68a"
      },
      "execution_count": null,
      "outputs": [
        {
          "output_type": "execute_result",
          "data": {
            "text/plain": [
              "'die menschen in der ukraine und die ukraine im vergangenen jahr in der vergangenen jahr in der hauptstadt im jahr <end> '"
            ],
            "application/vnd.google.colaboratory.intrinsic+json": {
              "type": "string"
            }
          },
          "metadata": {},
          "execution_count": 57
        }
      ]
    },
    {
      "cell_type": "markdown",
      "source": [
        "# **d) Local Attention Model**"
      ],
      "metadata": {
        "id": "fPMkyzejGb7Y"
      }
    },
    {
      "cell_type": "code",
      "source": [
        "class LocalAttention(Layer):\n",
        "  def __init__(self, units, window_size):\n",
        "    super(LocalAttention, self).__init__()\n",
        "    self.W1 = Dense(units)\n",
        "    self.W2 = Dense(units)\n",
        "    self.V = Dense(1)\n",
        "    self.window_size = window_size\n",
        "\n",
        "  def call(self, query, values):\n",
        "    query_with_time_axis = tf.expand_dims(query[0], 1)\n",
        "    score = self.V(tanh(self.W1(query_with_time_axis) + self.W2(values)))\n",
        "    start_index = tf.maximum(0, len(query) - self.window_size // 2)\n",
        "    end_index = start_index + self.window_size\n",
        "\n",
        "    attention_weights = softmax(score[:, start_index:end_index], axis=-1)\n",
        "    context_vector = attention_weights * values[:, start_index:end_index, :]\n",
        "    context_vector = tf.reduce_sum(context_vector, axis=1)\n",
        "\n",
        "    return context_vector, attention_weights\n",
        "\n",
        "class LocalDecoder(tf.keras.Model):\n",
        "  def __init__(self, vocab_size, embedding_dim, dec_units, batch_size, window_size):\n",
        "    super(LocalDecoder, self).__init__()\n",
        "    self.batch_sz = batch_size\n",
        "    self.dec_units = dec_units\n",
        "    self.embedding = Embedding(vocab_size, embedding_dim)\n",
        "    self.lstm = LSTM(self.dec_units,\n",
        "                   return_sequences=True,\n",
        "                   return_state=True,\n",
        "                   recurrent_initializer='glorot_uniform')\n",
        "    self.fc = Dense(vocab_size)\n",
        "    self.attention = LocalAttention(self.dec_units, window_size)\n",
        "\n",
        "  def call(self, x, hidden, enc_output):\n",
        "    context_vector, attention_weights = self.attention(hidden, enc_output)\n",
        "    x = self.embedding(x)\n",
        "    x = tf.concat([tf.expand_dims(context_vector, 1), x], axis=-1)\n",
        "    output, state_h, state_c = self.lstm(x, initial_state=hidden)\n",
        "    state = [state_h, state_c]\n",
        "    output = tf.reshape(output, (-1, output.shape[2]))\n",
        "    x = self.fc(output)\n",
        "    return x, state, attention_weights"
      ],
      "metadata": {
        "id": "bAoDkE78Gi6m"
      },
      "execution_count": null,
      "outputs": []
    },
    {
      "cell_type": "code",
      "source": [
        "local_encoder = Encoder(vocab_inp_size, embedding_dim, units, BATCH_SIZE)\n",
        "local_sample_hidden = local_encoder.initialize_hidden_state()\n",
        "local_sample_output, local_sample_hidden = local_encoder(example_input_batch, local_sample_hidden)\n",
        "\n",
        "print('Encoder Output Shape: (batch_size, sequence_length, units)', local_sample_output.shape)\n",
        "print('Encoder Hidden State Shape: (batch_size, units)', local_sample_hidden[0].shape)"
      ],
      "metadata": {
        "colab": {
          "base_uri": "https://localhost:8080/"
        },
        "id": "4TNqWc91GjdI",
        "outputId": "0e14d80a-2be6-4aac-9d88-2573f32a2f46"
      },
      "execution_count": null,
      "outputs": [
        {
          "output_type": "stream",
          "name": "stdout",
          "text": [
            "Encoder Output Shape: (batch_size, sequence_length, units) (32, 161, 512)\n",
            "Encoder Hidden State Shape: (batch_size, units) (32, 512)\n"
          ]
        }
      ]
    },
    {
      "cell_type": "code",
      "source": [
        "local_attention_layer = LocalAttention(10, 50)\n",
        "local_attention_result, local_attention_weights = local_attention_layer(local_sample_hidden, local_sample_output)\n",
        "\n",
        "print(\"Attention Result Shape: (batch_size, units)\", local_attention_result.shape)\n",
        "print(\"Attention Weights Shape: (batch_size, sequence_length, 1)\", local_attention_weights.shape)"
      ],
      "metadata": {
        "colab": {
          "base_uri": "https://localhost:8080/"
        },
        "id": "BjsQ3U_1GjZm",
        "outputId": "10f44dc3-5c31-4908-c992-11fd7741e3bb"
      },
      "execution_count": null,
      "outputs": [
        {
          "output_type": "stream",
          "name": "stdout",
          "text": [
            "Attention Result Shape: (batch_size, units) (32, 512)\n",
            "Attention Weights Shape: (batch_size, sequence_length, 1) (32, 50, 1)\n"
          ]
        }
      ]
    },
    {
      "cell_type": "code",
      "source": [
        "local_decoder = LocalDecoder(vocab_tar_size, embedding_dim, units, BATCH_SIZE, 50)\n",
        "local_sample_decoder_output, local_sample_decoder_state, _ = local_decoder(tf.random.uniform((BATCH_SIZE, 1)),\n",
        "                                      local_sample_hidden, local_sample_output)\n",
        "\n",
        "print('Decoder Output Shape: (batch_size, vocab_size)', local_sample_decoder_output.shape, local_sample_decoder_state[0].shape)"
      ],
      "metadata": {
        "colab": {
          "base_uri": "https://localhost:8080/"
        },
        "id": "Lbn4D7aKMYON",
        "outputId": "638908c2-562d-4a88-aaf3-8e82362ac6e4"
      },
      "execution_count": null,
      "outputs": [
        {
          "output_type": "stream",
          "name": "stdout",
          "text": [
            "Decoder Output Shape: (batch_size, vocab_size) (32, 26333) (32, 512)\n"
          ]
        }
      ]
    },
    {
      "cell_type": "code",
      "source": [
        "@tf.function\n",
        "def local_train_step(inp, targ, enc_hidden, loss):\n",
        "  with tf.GradientTape() as tape:\n",
        "    enc_output, enc_hidden = local_encoder(inp, enc_hidden)\n",
        "    dec_hidden = enc_hidden\n",
        "    dec_input = tf.expand_dims([1] * BATCH_SIZE, 1)\n",
        "\n",
        "    for t in range(1, targ.shape[1]):\n",
        "      predictions, dec_hidden, _ = local_decoder(dec_input, dec_hidden, enc_output)\n",
        "      loss += loss_function(targ[:, t], predictions)\n",
        "      dec_input = tf.expand_dims(targ[:, t], 1)\n",
        "\n",
        "  batch_loss = (loss / int(targ.shape[1]))\n",
        "  variables = local_encoder.trainable_variables + local_decoder.trainable_variables\n",
        "  gradients = tape.gradient(loss, variables)\n",
        "  optimizer.apply_gradients(zip(gradients, variables))\n",
        "  return batch_loss"
      ],
      "metadata": {
        "id": "lzSKHZ27NW5h"
      },
      "execution_count": null,
      "outputs": []
    },
    {
      "cell_type": "code",
      "source": [
        "EPOCHS = 5\n",
        "\n",
        "train_loss = []\n",
        "for epoch in range(EPOCHS):\n",
        "  start = time.time()\n",
        "\n",
        "  enc_hidden = local_encoder.initialize_hidden_state()\n",
        "  total_train_loss = 0\n",
        "  for (batch, (inp, targ)) in enumerate(dataset.take(steps_per_epoch)):\n",
        "    train_batch_loss = local_train_step(inp, targ, enc_hidden, 0)\n",
        "    total_train_loss += train_batch_loss\n",
        "  \n",
        "  temp = \"{:.4f}\".format(total_train_loss/steps_per_epoch)\n",
        "  train_loss.append(float(temp))\n",
        "\n",
        "  print(f'Epoch: {epoch+1}, Training Loss: {total_train_loss/steps_per_epoch:.4f}')\n",
        "  print(f'Time taken for 1 Epoch {time.time()-start:.2f}s\\n')"
      ],
      "metadata": {
        "colab": {
          "base_uri": "https://localhost:8080/"
        },
        "id": "BEijm4v5Nq4o",
        "outputId": "fe9bedd3-45c1-4612-b38a-15c6d60d396a"
      },
      "execution_count": null,
      "outputs": [
        {
          "output_type": "stream",
          "name": "stdout",
          "text": [
            "Epoch: 1, Training Loss: 1.1424\n",
            "Time taken for 1 Epoch 266.99s\n",
            "\n",
            "Epoch: 2, Training Loss: 1.0512\n",
            "Time taken for 1 Epoch 134.01s\n",
            "\n",
            "Epoch: 3, Training Loss: 0.9957\n",
            "Time taken for 1 Epoch 134.02s\n",
            "\n",
            "Epoch: 4, Training Loss: 0.9566\n",
            "Time taken for 1 Epoch 134.00s\n",
            "\n",
            "Epoch: 5, Training Loss: 0.9204\n",
            "Time taken for 1 Epoch 134.33s\n",
            "\n"
          ]
        }
      ]
    },
    {
      "cell_type": "code",
      "source": [
        "@tf.function\n",
        "def local_validation_step(inp, targ, enc_hidden, loss):\n",
        "    enc_output, enc_hidden = local_encoder(inp, enc_hidden, training=False)\n",
        "    dec_hidden = enc_hidden\n",
        "    dec_input = tf.expand_dims([1] * BATCH_SIZE, 1)\n",
        "\n",
        "    for t in range(1, targ.shape[1]):\n",
        "        predictions, dec_hidden, _ = local_decoder(dec_input, dec_hidden, enc_output, training=False)\n",
        "        loss += loss_function(targ[:, t], predictions)\n",
        "        dec_input = tf.expand_dims(targ[:, t], 1)\n",
        "\n",
        "    batch_loss = (loss / int(targ.shape[1]))\n",
        "    return batch_loss"
      ],
      "metadata": {
        "id": "Cv4gAylRT0i5"
      },
      "execution_count": null,
      "outputs": []
    },
    {
      "cell_type": "code",
      "source": [
        "# validation loop\n",
        "EPOCHS = 5\n",
        "\n",
        "val_loss = []\n",
        "for epoch in range(EPOCHS):\n",
        "  start = time.time()\n",
        "\n",
        "  enc_hidden = local_encoder.initialize_hidden_state()\n",
        "  total_loss = 0\n",
        "  for (batch, (inp, targ)) in enumerate(val_dataset.take(steps_per_epoch)):\n",
        "    batch_loss = local_validation_step(inp, targ, enc_hidden, 0)\n",
        "    total_loss += batch_loss\n",
        "  \n",
        "  temp = \"{:.4f}\".format(total_loss/steps_per_epoch)\n",
        "  val_loss.append(float(temp))\n",
        "  print(f'Epoch: {epoch+1}, Validation Loss: {total_loss/steps_per_epoch:.4f}')\n",
        "  print(f'Time taken for 1 Epoch {time.time()-start:.2f}s\\n')"
      ],
      "metadata": {
        "colab": {
          "base_uri": "https://localhost:8080/"
        },
        "id": "Qr08ljfwUI98",
        "outputId": "4eaddefa-69e6-46c5-fbf7-af9cfd4e0303"
      },
      "execution_count": null,
      "outputs": [
        {
          "output_type": "stream",
          "name": "stdout",
          "text": [
            "Epoch: 1, Validation Loss: 0.4369\n",
            "Time taken for 1 Epoch 93.86s\n",
            "\n",
            "Epoch: 2, Validation Loss: 0.4372\n",
            "Time taken for 1 Epoch 21.77s\n",
            "\n",
            "Epoch: 3, Validation Loss: 0.4381\n",
            "Time taken for 1 Epoch 22.01s\n",
            "\n",
            "Epoch: 4, Validation Loss: 0.4365\n",
            "Time taken for 1 Epoch 21.89s\n",
            "\n",
            "Epoch: 5, Validation Loss: 0.4362\n",
            "Time taken for 1 Epoch 21.70s\n",
            "\n"
          ]
        }
      ]
    },
    {
      "cell_type": "code",
      "source": [
        "fig, ax1 = plt.subplots(1, 1)\n",
        "ax1.plot(range(1, EPOCHS + 1), train_loss, label='training loss')\n",
        "ax1.plot(range(1, EPOCHS + 1), val_loss, label='validation loss')\n",
        "ax1.set_title('History of Loss')\n",
        "ax1.set_xlabel('Epochs')\n",
        "ax1.set_ylabel('Loss')\n",
        "ax1.legend(['Training', 'Validation'])\n",
        "ax1.grid()\n",
        "plt.show()"
      ],
      "metadata": {
        "colab": {
          "base_uri": "https://localhost:8080/",
          "height": 472
        },
        "id": "c2cEHc2sUnhQ",
        "outputId": "d3c7fca5-beb5-46ce-fa60-28e386496629"
      },
      "execution_count": null,
      "outputs": [
        {
          "output_type": "display_data",
          "data": {
            "text/plain": [
              "<Figure size 640x480 with 1 Axes>"
            ],
            "image/png": "[encoded data removed]"
          },
          "metadata": {}
        }
      ]
    },
    {
      "cell_type": "code",
      "source": [
        "# evaluation method\n",
        "def evaluate_local(sentence):\n",
        "  attention_plot = np.zeros((german_max_length, english_max_length))\n",
        "  sentence = preprocess_sentence(sentence)\n",
        "  inputs = [english_tokenizer.word_index[i] for i in sentence.split(' ')]\n",
        "  inputs = tf.keras.preprocessing.sequence.pad_sequences([inputs],\n",
        "                                                         maxlen=english_max_length,\n",
        "                                                         padding='post')\n",
        "  inputs = tf.convert_to_tensor(inputs)\n",
        "\n",
        "  result = ''\n",
        "  lstm_layer = tf.keras.layers.LSTM(units)\n",
        "  initial_state = [tf.zeros((1, units)), tf.zeros((1, units))]\n",
        "  enc_out, enc_hidden = local_encoder(inputs, initial_state)\n",
        "  dec_hidden = enc_hidden\n",
        "  dec_input = tf.expand_dims([german_tokenizer.word_index['<start>']], 0)\n",
        "\n",
        "  for t in range(german_max_length):\n",
        "    predictions, dec_hidden, attention_weights = local_decoder(dec_input,\n",
        "                                                         dec_hidden,\n",
        "                                                         enc_out)\n",
        "    attention_weights = tf.reshape(attention_weights, (-1, ))\n",
        "    attention_plot[t] = pad_sequences([attention_weights], padding='post', maxlen=161)\n",
        "    predicted_id = tf.argmax(predictions[0]).numpy()\n",
        "    result += german_tokenizer.index_word[predicted_id] + ' '\n",
        "\n",
        "    if german_tokenizer.index_word[predicted_id] == '<end>':\n",
        "      return result, sentence, attention_plot\n",
        "      \n",
        "    dec_input = tf.expand_dims([predicted_id], 0)\n",
        "\n",
        "  return result, sentence, attention_plot"
      ],
      "metadata": {
        "id": "ELUlStRkVKPl"
      },
      "execution_count": null,
      "outputs": []
    },
    {
      "cell_type": "code",
      "source": [
        "sentence = '<start> you have requested a debate on this subject in the course of the next few days during this partsession <end>'\n",
        "result, _, _ = evaluate_local(sentence)\n",
        "result"
      ],
      "metadata": {
        "colab": {
          "base_uri": "https://localhost:8080/",
          "height": 36
        },
        "id": "EoMsDO7sVe34",
        "outputId": "7a74149e-6245-46e5-fdb0-34d0da5a1ba4"
      },
      "execution_count": null,
      "outputs": [
        {
          "output_type": "execute_result",
          "data": {
            "text/plain": [
              "'herr präsident ich möchte die kommission der kommission in der bericht in der bericht in der bericht <end> '"
            ],
            "application/vnd.google.colaboratory.intrinsic+json": {
              "type": "string"
            }
          },
          "metadata": {},
          "execution_count": 102
        }
      ]
    },
    {
      "cell_type": "markdown",
      "source": [
        "# **BLEU Score Calculation**"
      ],
      "metadata": {
        "id": "nmmJukXT3BxE"
      }
    },
    {
      "cell_type": "code",
      "source": [
        "import nltk\n",
        "\n",
        "def calculate_bleu_score(actual, predicted):\n",
        "    bleu_1_score = 0\n",
        "    for i in range(len(actual)):\n",
        "        ref = actual[i].split()\n",
        "        cand = predicted[i].split()\n",
        "\n",
        "        bleu_1 = nltk.translate.bleu_score.sentence_bleu([ref], cand, weights=(1, 0, 0, 0))\n",
        "        bleu_1_score += bleu_1\n",
        "\n",
        "    avg_bleu1 = bleu_1_score / len(actual)\n",
        "\n",
        "    bleu_2_score = 0\n",
        "    for i in range(len(actual)):\n",
        "        ref = actual[i].split()\n",
        "        cand = predicted[i].split()\n",
        "        bleu_2 = nltk.translate.bleu_score.sentence_bleu([ref], cand, weights=(0.5, 0.5, 0, 0))\n",
        "        bleu_2_score += bleu_2\n",
        "\n",
        "    avg_bleu2 = bleu_2_score / len(actual)\n",
        "    return avg_bleu1, avg_bleu2"
      ],
      "metadata": {
        "id": "1Cn0dQK722hP"
      },
      "execution_count": null,
      "outputs": []
    },
    {
      "cell_type": "code",
      "source": [
        "def make_predictions(test_sentences):\n",
        "  predictions = []\n",
        "\n",
        "  for i in range(len(test_sentences)):\n",
        "    sentence = test_sentences[i].replace('  ', ' ')\n",
        "    try:\n",
        "      german_sent = '<start> ' + translate(sentence)\n",
        "      predictions.append(german_sent)\n",
        "    except:\n",
        "      print(sentence)\n",
        "      break\n",
        "\n",
        "  return predictions"
      ],
      "metadata": {
        "id": "WFXKATpg4UCF"
      },
      "execution_count": null,
      "outputs": []
    },
    {
      "cell_type": "code",
      "source": [
        "def make_local_predictions(test_sentences):\n",
        "  predictions = []\n",
        "\n",
        "  for i in range(len(test_sentences)):\n",
        "    sentence = test_sentences[i].replace('  ', ' ')\n",
        "    try:\n",
        "      result, _, _ = evaluate_local(sentence)\n",
        "      german_sent = '<start> ' + result\n",
        "      predictions.append(german_sent)\n",
        "    except:\n",
        "      print(sentence)\n",
        "      break\n",
        "\n",
        "  return predictions"
      ],
      "metadata": {
        "id": "A_7da3oFW_5b"
      },
      "execution_count": null,
      "outputs": []
    },
    {
      "cell_type": "markdown",
      "source": [
        "### **for Vanilla LSTM Mechanism**"
      ],
      "metadata": {
        "id": "FaaCV4mFEn9O"
      }
    },
    {
      "cell_type": "code",
      "source": [
        "blue1_list = []\n",
        "bleu2_list = []\n",
        "\n",
        "for actual_sent, predicted_sent in zip(actual_words, predicted_words):\n",
        "  bleu_1, bleu_2 = calculate_bleu_score(actual_sent, predicted_sent)\n",
        "  blue1_list.append(bleu_1)\n",
        "  bleu2_list.append(bleu_2)"
      ],
      "metadata": {
        "id": "RLDetKmEEqfo"
      },
      "execution_count": null,
      "outputs": []
    },
    {
      "cell_type": "code",
      "source": [
        "print(f\"BLEU-1 Score: {sum(blue1_list)/len(blue1_list)}\")\n",
        "print(f\"BLEU-2 Score: {sum(bleu2_list)/len(bleu2_list)}\")"
      ],
      "metadata": {
        "colab": {
          "base_uri": "https://localhost:8080/"
        },
        "id": "bi915GgtE15S",
        "outputId": "3d8cae5f-a85a-4bd7-c28e-3b303fc4e548"
      },
      "execution_count": null,
      "outputs": [
        {
          "output_type": "stream",
          "name": "stdout",
          "text": [
            "BLEU-1 Score: 0.12888133340157987\n",
            "BLEU-2 Score: 0.009027391633145242\n"
          ]
        }
      ]
    },
    {
      "cell_type": "markdown",
      "source": [
        "### **for Global Attention Mechanism**"
      ],
      "metadata": {
        "id": "7otvowj_Ehz4"
      }
    },
    {
      "cell_type": "code",
      "source": [
        "predictions = make_predictions(test_english)\n",
        "predictions"
      ],
      "metadata": {
        "id": "x-5JHROW43VA"
      },
      "execution_count": null,
      "outputs": []
    },
    {
      "cell_type": "code",
      "source": [
        "bleu_1, bleu_2 = calculate_bleu_score(test_german, predictions)"
      ],
      "metadata": {
        "id": "IDv9aT1z4MVx"
      },
      "execution_count": null,
      "outputs": []
    },
    {
      "cell_type": "code",
      "source": [
        "print(f\"BLEU-1 Score: {bleu_1}\")\n",
        "print(f\"BLEU-2 Score: {bleu_2}\")"
      ],
      "metadata": {
        "colab": {
          "base_uri": "https://localhost:8080/"
        },
        "id": "jYLdGOre_O65",
        "outputId": "f70245f1-d2e1-4545-b42a-72e1339ec127"
      },
      "execution_count": null,
      "outputs": [
        {
          "output_type": "stream",
          "name": "stdout",
          "text": [
            "BLEU-1 Score: 0.1893107483811143\n",
            "BLEU-2 Score: 0.02167383286284155\n"
          ]
        }
      ]
    },
    {
      "cell_type": "markdown",
      "source": [
        "### **for Local LSTM Mechanism**"
      ],
      "metadata": {
        "id": "bgfo7cwdXS7g"
      }
    },
    {
      "cell_type": "code",
      "source": [
        "local_predictions = make_local_predictions(test_english)\n",
        "local_predictions"
      ],
      "metadata": {
        "id": "GgNQ28LWXVgr"
      },
      "execution_count": null,
      "outputs": []
    },
    {
      "cell_type": "code",
      "source": [
        "bleu_1, bleu_2 = calculate_bleu_score(test_german, local_predictions)"
      ],
      "metadata": {
        "id": "ywVprRAtXici"
      },
      "execution_count": null,
      "outputs": []
    },
    {
      "cell_type": "code",
      "source": [
        "print(f\"BLEU-1 Score: {bleu_1}\")\n",
        "print(f\"BLEU-2 Score: {bleu_2}\")"
      ],
      "metadata": {
        "colab": {
          "base_uri": "https://localhost:8080/"
        },
        "id": "MMS_WaBvaoKS",
        "outputId": "4a26e379-673e-4df5-cf69-f76b9afdc14a"
      },
      "execution_count": null,
      "outputs": [
        {
          "output_type": "stream",
          "name": "stdout",
          "text": [
            "BLEU-1 Score: 0.18510687962962044\n",
            "BLEU-2 Score: 0.020196165307957478\n"
          ]
        }
      ]
    },
    {
      "cell_type": "markdown",
      "source": [
        "# **Rough-L Score Calculation**"
      ],
      "metadata": {
        "id": "jmXy4yNZ_c6K"
      }
    },
    {
      "cell_type": "code",
      "source": [
        "!pip install rouge"
      ],
      "metadata": {
        "colab": {
          "base_uri": "https://localhost:8080/"
        },
        "id": "Nr1jRLuF_XCq",
        "outputId": "aa036dfc-f7dc-4eb5-83c0-b1070c85c2ca"
      },
      "execution_count": null,
      "outputs": [
        {
          "output_type": "stream",
          "name": "stdout",
          "text": [
            "Looking in indexes: https://pypi.org/simple, https://us-python.pkg.dev/colab-wheels/public/simple/\n",
            "Collecting rouge\n",
            "  Downloading rouge-1.0.1-py3-none-any.whl (13 kB)\n",
            "Requirement already satisfied: six in /usr/local/lib/python3.9/dist-packages (from rouge) (1.16.0)\n",
            "Installing collected packages: rouge\n",
            "Successfully installed rouge-1.0.1\n"
          ]
        }
      ]
    },
    {
      "cell_type": "code",
      "source": [
        "from rouge import Rouge\n",
        "rouge = Rouge()"
      ],
      "metadata": {
        "id": "MTUGjwhr_8Bu"
      },
      "execution_count": null,
      "outputs": []
    },
    {
      "cell_type": "markdown",
      "source": [
        "### **For Vanilla LSTM Mechanism**"
      ],
      "metadata": {
        "id": "F0d113FFFTuj"
      }
    },
    {
      "cell_type": "code",
      "source": [
        "rouge_scores = []\n",
        "for actual_sent, predicted_sent in zip(actual_words, predicted_words):\n",
        "  ans = rouge.get_scores(predicted_sent, actual_sent, avg=True)\n",
        "  rouge_scores.append(ans['rouge-l']['f'])"
      ],
      "metadata": {
        "id": "uUklq3aSFaUJ"
      },
      "execution_count": null,
      "outputs": []
    },
    {
      "cell_type": "code",
      "source": [
        "print(f\"Rouge-L on the Test Set: {sum(rouge_scores)/len(rouge_scores)}\")"
      ],
      "metadata": {
        "colab": {
          "base_uri": "https://localhost:8080/"
        },
        "id": "ewg7_Ld5FeTF",
        "outputId": "90044afa-0378-4b7b-ace6-8d3e422f82c5"
      },
      "execution_count": null,
      "outputs": [
        {
          "output_type": "stream",
          "name": "stdout",
          "text": [
            "Rouge-L on the Test Set: 0.20387218348157077\n"
          ]
        }
      ]
    },
    {
      "cell_type": "markdown",
      "source": [
        "### **For Global Attention Mechanism**"
      ],
      "metadata": {
        "id": "qExTLvXYFI_L"
      }
    },
    {
      "cell_type": "code",
      "source": [
        "result = rouge.get_scores(predictions, test_german, avg=True)\n",
        "print(f\"Rouge-L Score on the Test Set: {result['rouge-l']['f']}\")"
      ],
      "metadata": {
        "colab": {
          "base_uri": "https://localhost:8080/"
        },
        "id": "muyp92eQ_hmQ",
        "outputId": "fdea5ab8-7263-4028-91d7-9944f7dd5d36"
      },
      "execution_count": null,
      "outputs": [
        {
          "output_type": "stream",
          "name": "stdout",
          "text": [
            "Rouge-L Score on the Test Set: 0.2379550835847547\n"
          ]
        }
      ]
    },
    {
      "cell_type": "markdown",
      "source": [
        "### **For Local LSTM Mechanism**"
      ],
      "metadata": {
        "id": "-XKm1iBrcz91"
      }
    },
    {
      "cell_type": "code",
      "source": [
        "result = rouge.get_scores(local_predictions, test_german, avg=True)\n",
        "print(f\"Rouge-L Score on the Test Set: {result['rouge-l']['f']}\")"
      ],
      "metadata": {
        "colab": {
          "base_uri": "https://localhost:8080/"
        },
        "id": "XPL03D0lc498",
        "outputId": "f3c0b5be-b4b9-40a0-b90e-9d6a4b783dc0"
      },
      "execution_count": null,
      "outputs": [
        {
          "output_type": "stream",
          "name": "stdout",
          "text": [
            "Rouge-L Score on the Test Set: 0.25796982971926946\n"
          ]
        }
      ]
    }
  ]
}